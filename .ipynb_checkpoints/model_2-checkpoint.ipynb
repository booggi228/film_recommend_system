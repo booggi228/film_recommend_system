{
 "cells": [
  {
   "cell_type": "code",
   "execution_count": 1,
   "metadata": {},
   "outputs": [],
   "source": [
    "import pandas as pd\n",
    "import numpy as np\n",
    "from sklearn.feature_extraction.text import CountVectorizer\n",
    "from sklearn.metrics.pairwise import cosine_similarity"
   ]
  },
  {
   "cell_type": "code",
   "execution_count": 2,
   "metadata": {},
   "outputs": [],
   "source": [
    "df = pd.read_csv('cleaned_data.csv')"
   ]
  },
  {
   "cell_type": "code",
   "execution_count": 25,
   "metadata": {},
   "outputs": [
    {
     "data": {
      "text/html": [
       "<div>\n",
       "<style scoped>\n",
       "    .dataframe tbody tr th:only-of-type {\n",
       "        vertical-align: middle;\n",
       "    }\n",
       "\n",
       "    .dataframe tbody tr th {\n",
       "        vertical-align: top;\n",
       "    }\n",
       "\n",
       "    .dataframe thead th {\n",
       "        text-align: right;\n",
       "    }\n",
       "</style>\n",
       "<table border=\"1\" class=\"dataframe\">\n",
       "  <thead>\n",
       "    <tr style=\"text-align: right;\">\n",
       "      <th></th>\n",
       "      <th>index</th>\n",
       "      <th>movie</th>\n",
       "      <th>year</th>\n",
       "      <th>timeMin</th>\n",
       "      <th>imdb</th>\n",
       "      <th>metascore</th>\n",
       "      <th>votes</th>\n",
       "      <th>grossMillions</th>\n",
       "      <th>genre</th>\n",
       "      <th>description</th>\n",
       "      <th>director</th>\n",
       "      <th>actors</th>\n",
       "      <th>movie_id</th>\n",
       "      <th>soup</th>\n",
       "    </tr>\n",
       "  </thead>\n",
       "  <tbody>\n",
       "    <tr>\n",
       "      <th>0</th>\n",
       "      <td>0</td>\n",
       "      <td>dark</td>\n",
       "      <td>2017</td>\n",
       "      <td>60</td>\n",
       "      <td>8.8</td>\n",
       "      <td>unknown</td>\n",
       "      <td>215184</td>\n",
       "      <td>unknown</td>\n",
       "      <td>Crime     Drama     Mystery</td>\n",
       "      <td>a family saga with a supernatural twist set in...</td>\n",
       "      <td>unknown</td>\n",
       "      <td>Louis Hofmann Karoline Eichhorn Lisa Vicari Ma...</td>\n",
       "      <td>0</td>\n",
       "      <td>a family saga with a supernatural twist set in...</td>\n",
       "    </tr>\n",
       "    <tr>\n",
       "      <th>1</th>\n",
       "      <td>1</td>\n",
       "      <td>the sinner</td>\n",
       "      <td>2017</td>\n",
       "      <td>45</td>\n",
       "      <td>8.0</td>\n",
       "      <td>unknown</td>\n",
       "      <td>77161</td>\n",
       "      <td>unknown</td>\n",
       "      <td>Crime     Drama     Mystery</td>\n",
       "      <td>anthology series that examines how and why ord...</td>\n",
       "      <td>unknown</td>\n",
       "      <td>Bill Pullman Dohn Norwood Adam LeFevre Jessica...</td>\n",
       "      <td>1</td>\n",
       "      <td>anthology series that examines how and why ord...</td>\n",
       "    </tr>\n",
       "    <tr>\n",
       "      <th>2</th>\n",
       "      <td>2</td>\n",
       "      <td>game of thrones</td>\n",
       "      <td>2011</td>\n",
       "      <td>57</td>\n",
       "      <td>9.3</td>\n",
       "      <td>unknown</td>\n",
       "      <td>1688494</td>\n",
       "      <td>unknown</td>\n",
       "      <td>Action     Adventure     Drama</td>\n",
       "      <td>nine noble families fight for control over the...</td>\n",
       "      <td>unknown</td>\n",
       "      <td>Emilia Clarke Peter Dinklage Kit Harington Len...</td>\n",
       "      <td>2</td>\n",
       "      <td>nine noble families fight for control over the...</td>\n",
       "    </tr>\n",
       "    <tr>\n",
       "      <th>3</th>\n",
       "      <td>3</td>\n",
       "      <td>yellowstone</td>\n",
       "      <td>2018</td>\n",
       "      <td>60</td>\n",
       "      <td>8.4</td>\n",
       "      <td>unknown</td>\n",
       "      <td>17372</td>\n",
       "      <td>unknown</td>\n",
       "      <td>Drama     Western</td>\n",
       "      <td>a ranching family in montana faces off against...</td>\n",
       "      <td>unknown</td>\n",
       "      <td>Kevin Costner Luke Grimes Kelly Reilly Wes Ben...</td>\n",
       "      <td>3</td>\n",
       "      <td>a ranching family in montana faces off against...</td>\n",
       "    </tr>\n",
       "    <tr>\n",
       "      <th>4</th>\n",
       "      <td>4</td>\n",
       "      <td>knives out</td>\n",
       "      <td>2019</td>\n",
       "      <td>130</td>\n",
       "      <td>7.9</td>\n",
       "      <td>82.0</td>\n",
       "      <td>341615</td>\n",
       "      <td>165.36</td>\n",
       "      <td>Comedy     Crime     Drama</td>\n",
       "      <td>a detective investigates the death of a patria...</td>\n",
       "      <td>Rian Johnson</td>\n",
       "      <td>Daniel Craig Chris Evans Ana de Armas Jamie Le...</td>\n",
       "      <td>4</td>\n",
       "      <td>a detective investigates the death of a patria...</td>\n",
       "    </tr>\n",
       "  </tbody>\n",
       "</table>\n",
       "</div>"
      ],
      "text/plain": [
       "   index            movie  year  timeMin  imdb metascore    votes  \\\n",
       "0      0             dark  2017       60   8.8   unknown   215184   \n",
       "1      1       the sinner  2017       45   8.0   unknown    77161   \n",
       "2      2  game of thrones  2011       57   9.3   unknown  1688494   \n",
       "3      3      yellowstone  2018       60   8.4   unknown    17372   \n",
       "4      4       knives out  2019      130   7.9      82.0   341615   \n",
       "\n",
       "  grossMillions                           genre  \\\n",
       "0       unknown     Crime     Drama     Mystery   \n",
       "1       unknown     Crime     Drama     Mystery   \n",
       "2       unknown  Action     Adventure     Drama   \n",
       "3       unknown               Drama     Western   \n",
       "4        165.36      Comedy     Crime     Drama   \n",
       "\n",
       "                                         description      director  \\\n",
       "0  a family saga with a supernatural twist set in...       unknown   \n",
       "1  anthology series that examines how and why ord...       unknown   \n",
       "2  nine noble families fight for control over the...       unknown   \n",
       "3  a ranching family in montana faces off against...       unknown   \n",
       "4  a detective investigates the death of a patria...  Rian Johnson   \n",
       "\n",
       "                                              actors  movie_id  \\\n",
       "0  Louis Hofmann Karoline Eichhorn Lisa Vicari Ma...         0   \n",
       "1  Bill Pullman Dohn Norwood Adam LeFevre Jessica...         1   \n",
       "2  Emilia Clarke Peter Dinklage Kit Harington Len...         2   \n",
       "3  Kevin Costner Luke Grimes Kelly Reilly Wes Ben...         3   \n",
       "4  Daniel Craig Chris Evans Ana de Armas Jamie Le...         4   \n",
       "\n",
       "                                                soup  \n",
       "0  a family saga with a supernatural twist set in...  \n",
       "1  anthology series that examines how and why ord...  \n",
       "2  nine noble families fight for control over the...  \n",
       "3  a ranching family in montana faces off against...  \n",
       "4  a detective investigates the death of a patria...  "
      ]
     },
     "execution_count": 25,
     "metadata": {},
     "output_type": "execute_result"
    }
   ],
   "source": [
    "df.head()"
   ]
  },
  {
   "cell_type": "code",
   "execution_count": 4,
   "metadata": {},
   "outputs": [],
   "source": [
    "df['movie'] = df['movie'].apply(lambda x: x.replace(':', '').replace('.', '').replace('-', '').replace('/', '').replace(',', '').lower().strip())\n",
    "\n",
    "df['actors'] = df['actors'].astype(str)\n",
    "\n",
    "df['description'] = df['description'].apply(lambda x: x.lower().strip())\n",
    "df['description'] = df['description'].apply(lambda x: x.replace(',', '').replace('.', '').replace(':', '').replace('-', ''))\n",
    "\n",
    "\n",
    "df['actors'] = df['actors'].apply(lambda x: x.replace(',', '').replace('.', '').strip())\n",
    "\n",
    "df['genre'] = df['genre'].apply(lambda x: x.strip())"
   ]
  },
  {
   "cell_type": "code",
   "execution_count": 24,
   "metadata": {},
   "outputs": [],
   "source": [
    "df['soup'] = df['description'] + df['genre'] + df['actors']\n",
    "df['soup'] = df['soup'].apply(lambda x: ''.join(x))"
   ]
  },
  {
   "cell_type": "code",
   "execution_count": 26,
   "metadata": {},
   "outputs": [],
   "source": [
    "count = CountVectorizer(analyzer='word',ngram_range=(1, 2),min_df=0, stop_words='english')\n",
    "count_matrix = count.fit_transform(df['soup'])"
   ]
  },
  {
   "cell_type": "code",
   "execution_count": 27,
   "metadata": {},
   "outputs": [],
   "source": [
    "cosine_sim = cosine_similarity(count_matrix, count_matrix)"
   ]
  },
  {
   "cell_type": "code",
   "execution_count": 29,
   "metadata": {},
   "outputs": [],
   "source": [
    "data = df.reset_index()\n",
    "titles = data['movie']\n",
    "indices = pd.Series(data.index, index=data['movie'])"
   ]
  },
  {
   "cell_type": "code",
   "execution_count": 60,
   "metadata": {},
   "outputs": [],
   "source": [
    "def get_recommendations(title):\n",
    "    idx = indices[title]\n",
    "    sim_scores = list(enumerate(cosine_sim[idx]))\n",
    "    sim_scores = sorted(sim_scores, key=lambda x: x[1], reverse=True)\n",
    "    sim_scores = sim_scores[1:25]\n",
    "    movie_indices = [i[0] for i in sim_scores]\n",
    "    return titles.iloc[movie_indices[1:11]]"
   ]
  },
  {
   "cell_type": "code",
   "execution_count": 62,
   "metadata": {},
   "outputs": [
    {
     "data": {
      "text/plain": [
       "470               clash of the titans\n",
       "1079          the fate of the furious\n",
       "2756               battle los angeles\n",
       "2729              wrath of the titans\n",
       "1436          star trek into darkness\n",
       "256           guardians of the galaxy\n",
       "6815       agents of shield slingshot\n",
       "9531        mune guardian of the moon\n",
       "2877                       the losers\n",
       "399     guardians of the galaxy vol 2\n",
       "Name: movie, dtype: object"
      ]
     },
     "execution_count": 62,
     "metadata": {},
     "output_type": "execute_result"
    }
   ],
   "source": [
    "get_recommendations('avatar')"
   ]
  },
  {
   "cell_type": "code",
   "execution_count": null,
   "metadata": {},
   "outputs": [],
   "source": [
    "wrath of the titans\n",
    "clash of the titans\n",
    "the league of extraordinary gentlemen\n",
    "crouching tiger hidden dragon\n",
    "the fate of the furious\n",
    "suicide squad\n",
    "hellboy ii the golden army\n",
    "call of duty black ops ii\n",
    "lara croft tomb raider the cradle of life\n",
    "guardians of the galaxy"
   ]
  }
 ],
 "metadata": {
  "kernelspec": {
   "display_name": "Python 3",
   "language": "python",
   "name": "python3"
  },
  "language_info": {
   "codemirror_mode": {
    "name": "ipython",
    "version": 3
   },
   "file_extension": ".py",
   "mimetype": "text/x-python",
   "name": "python",
   "nbconvert_exporter": "python",
   "pygments_lexer": "ipython3",
   "version": "3.7.6"
  },
  "toc": {
   "base_numbering": 1,
   "nav_menu": {},
   "number_sections": true,
   "sideBar": true,
   "skip_h1_title": false,
   "title_cell": "Table of Contents",
   "title_sidebar": "Contents",
   "toc_cell": false,
   "toc_position": {},
   "toc_section_display": true,
   "toc_window_display": false
  }
 },
 "nbformat": 4,
 "nbformat_minor": 4
}
